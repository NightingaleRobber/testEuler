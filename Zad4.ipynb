{
 "cells": [
  {
   "cell_type": "markdown",
   "metadata": {},
   "source": [
    "Число-палиндром с обеих сторон (справа налево и слева направо) читается одинаково. Самое большое число-палиндром, полученное умножением двух двузначных чисел – 9009 = 91 × 99.\n",
    "\n",
    "Найдите самый большой палиндром, полученный умножением двух трехзначных чисел."
   ]
  },
  {
   "cell_type": "code",
   "execution_count": 8,
   "metadata": {},
   "outputs": [
    {
     "name": "stdout",
     "output_type": "stream",
     "text": [
      "999 91\n",
      "90909\n",
      "995 583\n",
      "580085\n",
      "993 913\n",
      "906609\n",
      "906609\n"
     ]
    }
   ],
   "source": [
    "# дыра с границей (999*899 > 900*900), убрать сотни\n",
    "max_pal = '0' # объявление строки c максимальным числом-палиндромом\n",
    "hundred = 999 \n",
    "for i in range (999,0,-1): # цикл от большего к меньшему, по сотне\n",
    "    for f in range (999, 0,-1): # аналогично\n",
    "        mult = i*f # произведение\n",
    "        pal_string = str(mult) # преобразовать в строку\n",
    "        if mult > int(max_pal) and pal_string == pal_string[::-1]: # если произведение больше записанного и является палиндромом\n",
    "            max_pal = pal_string # принять новое максимальное\n",
    "            print (i, f) # вывести множители максимального\n",
    "            print (max_pal)\n",
    "print (max_pal) # вывести результат\n",
    "        \n",
    "        \n"
   ]
  },
  {
   "cell_type": "code",
   "execution_count": 5,
   "metadata": {},
   "outputs": [
    {
     "name": "stdout",
     "output_type": "stream",
     "text": [
      "Yeah\n"
     ]
    }
   ],
   "source": [
    "pal_string = '9009' # строка\n",
    "if pal_string == pal_string[::-1]: # если строка равна реверсу \n",
    "    print('Yeah')"
   ]
  }
 ],
 "metadata": {
  "kernelspec": {
   "display_name": "Python 3",
   "language": "python",
   "name": "python3"
  },
  "language_info": {
   "codemirror_mode": {
    "name": "ipython",
    "version": 3
   },
   "file_extension": ".py",
   "mimetype": "text/x-python",
   "name": "python",
   "nbconvert_exporter": "python",
   "pygments_lexer": "ipython3",
   "version": "3.7.3"
  }
 },
 "nbformat": 4,
 "nbformat_minor": 2
}
